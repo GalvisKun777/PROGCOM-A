{
  "nbformat": 4,
  "nbformat_minor": 0,
  "metadata": {
    "colab": {
      "provenance": []
    },
    "kernelspec": {
      "name": "python3",
      "display_name": "Python 3"
    },
    "language_info": {
      "name": "python"
    }
  },
  "cells": [
    {
      "cell_type": "code",
      "execution_count": 7,
      "metadata": {
        "colab": {
          "base_uri": "https://localhost:8080/"
        },
        "id": "t1OLTV0dr6PV",
        "outputId": "2de1413e-2dfa-448b-ffa0-2d086894b8a8"
      },
      "outputs": [
        {
          "output_type": "stream",
          "name": "stdout",
          "text": [
            "Ingrese el número de inicio: 3\n",
            "Ingrese el número final: 6\n",
            "[9, 16, 25, 36]\n"
          ]
        }
      ],
      "source": [
        "#comprension\n",
        "inicio = int(input(\"Ingrese el número de inicio: \"))\n",
        "fin = int(input(\"Ingrese el número final: \"))\n",
        "cuadrados = [x**2 for x in range(inicio, fin + 1)]\n",
        "print(cuadrados)\n",
        "\n"
      ]
    },
    {
      "cell_type": "code",
      "source": [
        "#función\n",
        "def cuadrado(x):\n",
        "    return x**2\n",
        "inicio = int(input(\"Ingrese el número de inicio: \"))\n",
        "fin = int(input(\"Ingrese el número final: \"))\n",
        "cuadrados = []\n",
        "for i in range(inicio, fin + 1):\n",
        "    cuadrados.append(cuadrado(i))\n",
        "print(cuadrados)\n",
        "\n"
      ],
      "metadata": {
        "colab": {
          "base_uri": "https://localhost:8080/"
        },
        "id": "b0Ow8aWp-leI",
        "outputId": "0f512f4b-946d-40c9-918a-882a67a2a0de"
      },
      "execution_count": 21,
      "outputs": [
        {
          "output_type": "stream",
          "name": "stdout",
          "text": [
            "Ingrese el número de inicio: 8\n",
            "Ingrese el número final: 10\n",
            "[64, 81, 100]\n"
          ]
        }
      ]
    },
    {
      "cell_type": "code",
      "source": [
        "#lambda\n",
        "inicio = int(input(\"Ingrese el número de inicio: \"))\n",
        "fin = int(input(\"Ingrese el número final: \"))\n",
        "cuadrados = list(map(lambda x: x**2, range(inicio, fin + 1)))\n",
        "print(cuadrados)\n"
      ],
      "metadata": {
        "colab": {
          "base_uri": "https://localhost:8080/"
        },
        "id": "dExmNsZi_KiZ",
        "outputId": "f8abee6f-6134-41b8-f2b1-10a02b65e110"
      },
      "execution_count": 23,
      "outputs": [
        {
          "output_type": "stream",
          "name": "stdout",
          "text": [
            "Ingrese el número de inicio: 6\n",
            "Ingrese el número final: 8\n",
            "[36, 49, 64]\n"
          ]
        }
      ]
    }
  ]
}